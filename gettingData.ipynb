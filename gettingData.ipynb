{
 "metadata": {
  "name": "",
  "signature": "sha256:0c8b69d9380c844ca6fe0fc1d0ce6cf1fb015a5ee98661dd8fd29b46e1164e68"
 },
 "nbformat": 3,
 "nbformat_minor": 0,
 "worksheets": [
  {
   "cells": [
    {
     "cell_type": "heading",
     "level": 1,
     "metadata": {},
     "source": [
      "gettingData"
     ]
    },
    {
     "cell_type": "heading",
     "level": 4,
     "metadata": {},
     "source": [
      "A notebook describing code to collect heart data from the sources online. "
     ]
    },
    {
     "cell_type": "markdown",
     "metadata": {},
     "source": [
      "I had difficulty finding actual heart data sources from the [data.gov](http://catalog.data.gov/dataset?_organization_limit=0&organization=hhs-gov&vocab_category_all=Health) website. One of the \"data sources\" points to is the [CDC site](http://www.cdc.gov/dhdsp/), but they too lack in actual downloadable data sources. After many clicks on links pointing to dissappointing [data sources](http://www.cdc.gov/dhdsp/help/ncvdss_dtm/data_sources.htm), I decided to start keeping tabs on various sources and seeing what I could collect.\n",
      "\n",
      "###CDC\n",
      "####Division for Heart Disease and Stroke Prevention\n",
      "#####Data Sources\n",
      "- [BRFSS](http://www.cdc.gov/brfss) - Behavioral Risk Factor Surveillance System: This site has actual data that is available for download! Click [here](http://www.cdc.gov/brfss/annual_data/annual_2013.html#datafiles) to see links to machine readable files!)\n",
      "- [CARES](https://mycares.net/) - Cardiac Arrest Registry to Enhance Survival: A research proposal needs to be submitted to get access to the data. Researchers must agree not to expand the analysis beyond the original scope of the proposal. Hard deadlines on using the data. Booooo. Read more about it [here](https://mycares.net/sitepages/datasharepolicy.jsp)."
     ]
    },
    {
     "cell_type": "code",
     "collapsed": false,
     "input": [],
     "language": "python",
     "metadata": {},
     "outputs": []
    }
   ],
   "metadata": {}
  }
 ]
}